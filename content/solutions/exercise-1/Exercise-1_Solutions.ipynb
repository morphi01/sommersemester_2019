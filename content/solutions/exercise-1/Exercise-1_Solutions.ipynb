{
 "cells": [
  {
   "cell_type": "markdown",
   "metadata": {
    "slideshow": {
     "slide_type": "slide"
    }
   },
   "source": [
    "# Exercise 1 - Solutions"
   ]
  },
  {
   "cell_type": "code",
   "execution_count": 1,
   "metadata": {
    "slideshow": {
     "slide_type": "slide"
    }
   },
   "outputs": [
    {
     "name": "stdout",
     "output_type": "stream",
     "text": [
      "Hallo Welt!\n"
     ]
    }
   ],
   "source": [
    "# 1) The following line causes a SyntaxError. Please correct the line so that it's output is 'Hallo Welt!' [1P]\n",
    "print(\"Hallo Welt!\")"
   ]
  },
  {
   "cell_type": "code",
   "execution_count": 3,
   "metadata": {
    "slideshow": {
     "slide_type": "slide"
    }
   },
   "outputs": [
    {
     "data": {
      "text/plain": [
       "631.543"
      ]
     },
     "execution_count": 3,
     "metadata": {},
     "output_type": "execute_result"
    }
   ],
   "source": [
    "# 2) Calculate the difference between a and b and assign the result to a variable called 'v_1'. \n",
    "#    What are the datatypes of a, b and 'v_1'? [2P]\n",
    "a = 976.543\n",
    "b = 345\n",
    "v_1 = a-b # Data-Types: a: float, d: int, v_1: float\n",
    "v_1"
   ]
  },
  {
   "cell_type": "code",
   "execution_count": 4,
   "metadata": {},
   "outputs": [
    {
     "name": "stdout",
     "output_type": "stream",
     "text": [
      "The data type of a is: <class 'float'>\n",
      "The data type of b is: <class 'int'>\n",
      "The data type of v_1 is: <class 'float'>\n"
     ]
    }
   ],
   "source": [
    "print(\"The data type of a is: {}\".format(type(a)))\n",
    "print(\"The data type of b is: {}\".format(type(b)))\n",
    "print(\"The data type of v_1 is: {}\".format(type(v_1)))"
   ]
  },
  {
   "cell_type": "code",
   "execution_count": 5,
   "metadata": {
    "slideshow": {
     "slide_type": "slide"
    }
   },
   "outputs": [
    {
     "data": {
      "text/plain": [
       "15"
      ]
     },
     "execution_count": 5,
     "metadata": {},
     "output_type": "execute_result"
    }
   ],
   "source": [
    "# 3) Calculate the remainder of the division 100/17 by only using one operator \n",
    "#    and save the result in v_2 (maybe google helps?) [1P]\n",
    "v_2 = 100%17\n",
    "v_2"
   ]
  },
  {
   "cell_type": "code",
   "execution_count": 1,
   "metadata": {
    "slideshow": {
     "slide_type": "slide"
    }
   },
   "outputs": [
    {
     "data": {
      "text/plain": [
       "600.0"
      ]
     },
     "execution_count": 1,
     "metadata": {},
     "output_type": "execute_result"
    }
   ],
   "source": [
    "# 4) The speed of light is about 300'000 km/s. What is the wavelength (in nanometers) of a light wave \n",
    "#    with a frequency of 5.0E+14 per second? Can we see this light? [4P]\n",
    "#    If you don't know how to convert frequencies to wavelengths, google can help you!\n",
    "#    Save the result in v_3.\n",
    "\n",
    "c = 300000 * 1000 # conversion into meters/s\n",
    "f = 5.0E+14\n",
    "\n",
    "wv = c/f\n",
    "\n",
    "v_3 = wv*1.0E+9 # conversion into nanometers\n",
    "v_3 # Yes we can see the light at 600nm (red/orange)"
   ]
  },
  {
   "cell_type": "code",
   "execution_count": 11,
   "metadata": {
    "slideshow": {
     "slide_type": "slide"
    }
   },
   "outputs": [
    {
     "data": {
      "image/png": "[encoded data removed]",
      "text/plain": [
       "<Figure size 1440x720 with 1 Axes>"
      ]
     },
     "metadata": {
      "needs_background": "light"
     },
     "output_type": "display_data"
    }
   ],
   "source": [
    "import matplotlib\n",
    "import matplotlib.pyplot as plt\n",
    "fig = plt.figure(figsize=(20,10))\n",
    "ax = fig.add_subplot(111)\n",
    "rect1 = matplotlib.patches.Rectangle((-200,-100), 400, 200, color=('#c94000'))\n",
    "ax.add_patch(rect1); plt.xlim([-200, 200]); plt.ylim([-100, 150]); plt.axis(\"off\")\n",
    "plt.text(-200,120,\"#c94000 'Diese Farbe hat eine ungefähre Wellenlänge von 600 nm'\\n- https://encycolorpedia.de/c94000\",size=20)\n",
    "plt.show()"
   ]
  },
  {
   "cell_type": "code",
   "execution_count": 4,
   "metadata": {
    "slideshow": {
     "slide_type": "slide"
    }
   },
   "outputs": [
    {
     "name": "stdout",
     "output_type": "stream",
     "text": [
      "Pi rounded to the first 10 decimals is: 3.1415926536\n"
     ]
    }
   ],
   "source": [
    "# 5) Print the following string to the console using the format-function and the variables 'n' and 'pi': \"Pi rounded to the first 10 decimals is: 3.1415926536\" [2P]\n",
    "n  = 10\n",
    "pi = 3.14159265358979323846264338\n",
    "\n",
    "print(\"Pi rounded to the first {0:1d} decimals is: {1:1.10f}\".format(n,pi))"
   ]
  }
 ],
 "metadata": {
  "celltoolbar": "Slideshow",
  "kernelspec": {
   "display_name": "Python 3",
   "language": "python",
   "name": "python3"
  },
  "language_info": {
   "codemirror_mode": {
    "name": "ipython",
    "version": 3
   },
   "file_extension": ".py",
   "mimetype": "text/x-python",
   "name": "python",
   "nbconvert_exporter": "python",
   "pygments_lexer": "ipython3",
   "version": "3.6.8"
  }
 },
 "nbformat": 4,
 "nbformat_minor": 2
}
