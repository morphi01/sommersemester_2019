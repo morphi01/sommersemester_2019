{
 "cells": [
  {
   "cell_type": "markdown",
   "metadata": {
    "slideshow": {
     "slide_type": "slide"
    }
   },
   "source": [
    "# Exercise 2 - Solutions"
   ]
  },
  {
   "cell_type": "code",
   "execution_count": null,
   "metadata": {
    "slideshow": {
     "slide_type": "slide"
    }
   },
   "outputs": [],
   "source": [
    "# Satellites:\n",
    "sat_database = {\"METEOSAT\" : 3000,\n",
    "                \"LANDSAT\"  : 30,\n",
    "                \"MODIS\"    : 500\n",
    "               }\n",
    "\n",
    "# The dictionary above contains the names and spatial resolutions of some satellite systems."
   ]
  },
  {
   "cell_type": "code",
   "execution_count": null,
   "metadata": {
    "slideshow": {
     "slide_type": "slide"
    }
   },
   "outputs": [],
   "source": [
    "# 1) Add the \"GOES\" and \"worldview\" satellites with their 2000/0.31m resolution to the dictionary [2P]\n",
    "sat_database[\"GOES\"] = 2000\n",
    "sat_database[\"worldview\"] = 0.31\n",
    "print(sat_database)"
   ]
  },
  {
   "cell_type": "code",
   "execution_count": null,
   "metadata": {
    "slideshow": {
     "slide_type": "slide"
    }
   },
   "outputs": [],
   "source": [
    "print(\"I have the following satellites in my database:\")\n",
    "\n",
    "# 2) print out all satellite names contained in the dictionary [2P]\n",
    "for key in sat_database.keys():\n",
    "    print(key)"
   ]
  },
  {
   "cell_type": "code",
   "execution_count": null,
   "metadata": {
    "slideshow": {
     "slide_type": "slide"
    }
   },
   "outputs": [],
   "source": [
    "# 3) Ask the user to enter the satellite name from which she/he would like to know the resolution [2P]\n",
    "user_input = input(\"\\nFrom which satellite would you like to know the resolution? \")"
   ]
  },
  {
   "cell_type": "code",
   "execution_count": null,
   "metadata": {
    "slideshow": {
     "slide_type": "slide"
    }
   },
   "outputs": [],
   "source": [
    "# 4) Check, if the satellite is in the database and inform the user, if it is not [2P]\n",
    "if user_input in sat_database.keys():\n",
    "    print(\"The resolution of {0} is: {1:1.2f}m\".format(user_input,sat_database[user_input]))\n",
    "    \n",
    "# 5) If the satellite name is in the database, print a meaningful message \n",
    "#    containing the satellite name and it's resolution [2P] \n",
    "else:\n",
    "    print(\"I do not have the satellite '{}' in my database.\".format(user_input))\n",
    "    "
   ]
  }
 ],
 "metadata": {
  "celltoolbar": "Slideshow",
  "kernelspec": {
   "display_name": "Python 3",
   "language": "python",
   "name": "python3"
  },
  "language_info": {
   "codemirror_mode": {
    "name": "ipython",
    "version": 3
   },
   "file_extension": ".py",
   "mimetype": "text/x-python",
   "name": "python",
   "nbconvert_exporter": "python",
   "pygments_lexer": "ipython3",
   "version": "3.7.1"
  }
 },
 "nbformat": 4,
 "nbformat_minor": 2
}
